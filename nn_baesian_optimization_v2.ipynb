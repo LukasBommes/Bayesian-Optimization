{
  "nbformat": 4,
  "nbformat_minor": 0,
  "metadata": {
    "colab": {
      "name": "nn_baesian_optimization.ipynb",
      "provenance": [],
      "collapsed_sections": []
    },
    "kernelspec": {
      "name": "python3",
      "display_name": "Python 3"
    },
    "accelerator": "GPU"
  },
  "cells": [
    {
      "cell_type": "markdown",
      "metadata": {
        "id": "Pvz0emj1Bhox",
        "colab_type": "text"
      },
      "source": [
        "# CNN Hyperparameter Tuning with Bayesian Optimization for MNIST Classification\n",
        "\n",
        "This example demonstrate the usage of Bayesian optimization (BO) as implemented in scikit-optimize for tuning the hyper parameters of a neural network. As compared to grid search or random search less hyper parameter combinations need to be evaluated to determine the near-optimal configuration.\n",
        "\n",
        "In each iteration of BO the neural network is trained with a different set of hyper parameters and its validation accuracy is computed. A gaussian process is fitted to the validation accuracy over the space of hyper parameters. An acquistion function which is a function of the fitted gaussian process is sampled for the next suitable hyper parameter combination which is expected to increase validation accuracy."
      ]
    },
    {
      "cell_type": "code",
      "metadata": {
        "id": "BlDPu2tMKe4X",
        "colab_type": "code",
        "colab": {}
      },
      "source": [
        "from google.colab import drive\n",
        "drive.mount('/content/drive')"
      ],
      "execution_count": 0,
      "outputs": []
    },
    {
      "cell_type": "code",
      "metadata": {
        "id": "O8NVa79X_8_v",
        "colab_type": "code",
        "colab": {}
      },
      "source": [
        "import tensorflow as tf\n",
        "import numpy as np\n",
        "import uuid\n",
        "import os"
      ],
      "execution_count": 0,
      "outputs": []
    },
    {
      "cell_type": "code",
      "metadata": {
        "id": "IncJshjtANMd",
        "colab_type": "code",
        "colab": {}
      },
      "source": [
        "(x_train, y_train), (x_test, y_test) = tf.keras.datasets.mnist.load_data()"
      ],
      "execution_count": 0,
      "outputs": []
    },
    {
      "cell_type": "code",
      "metadata": {
        "id": "MQY8VjbjAR-5",
        "colab_type": "code",
        "colab": {}
      },
      "source": [
        "img_rows, img_cols = 28, 28\n",
        "x_train = x_train.reshape(x_train.shape[0], img_rows, img_cols, 1)\n",
        "x_test = x_test.reshape(x_test.shape[0], img_rows, img_cols, 1)\n",
        "input_shape = (img_rows, img_cols, 1)"
      ],
      "execution_count": 0,
      "outputs": []
    },
    {
      "cell_type": "code",
      "metadata": {
        "id": "0N4ha9aRAiZp",
        "colab_type": "code",
        "outputId": "a56ccfba-a9fe-4c93-f9ed-46abc22ede79",
        "colab": {
          "base_uri": "https://localhost:8080/",
          "height": 67
        }
      },
      "source": [
        "x_train = x_train.astype('float32')\n",
        "x_test = x_test.astype('float32')\n",
        "x_train /= 255\n",
        "x_test /= 255\n",
        "print('x_train shape:', x_train.shape)\n",
        "print(x_train.shape[0], 'train samples')\n",
        "print(x_test.shape[0], 'test samples')"
      ],
      "execution_count": 5,
      "outputs": [
        {
          "output_type": "stream",
          "text": [
            "x_train shape: (60000, 28, 28, 1)\n",
            "60000 train samples\n",
            "10000 test samples\n"
          ],
          "name": "stdout"
        }
      ]
    },
    {
      "cell_type": "code",
      "metadata": {
        "id": "c1Ab-LTVA8XA",
        "colab_type": "code",
        "colab": {}
      },
      "source": [
        "num_classes = 10"
      ],
      "execution_count": 0,
      "outputs": []
    },
    {
      "cell_type": "code",
      "metadata": {
        "id": "-2-ci7qEAknU",
        "colab_type": "code",
        "colab": {}
      },
      "source": [
        "y_train = tf.keras.utils.to_categorical(y_train, num_classes)\n",
        "y_test = tf.keras.utils.to_categorical(y_test, num_classes)"
      ],
      "execution_count": 0,
      "outputs": []
    },
    {
      "cell_type": "code",
      "metadata": {
        "id": "bY8kp0VbAmEr",
        "colab_type": "code",
        "colab": {}
      },
      "source": [
        "def create_model(activation, learning_rate, adam_decay, dropout, dense_units, \n",
        "                 conv_0_channels, conv_1_channels):\n",
        "  model = tf.keras.Sequential()\n",
        "  model.add(tf.keras.layers.Conv2D(conv_0_channels, kernel_size=(3, 3),\n",
        "                  activation=activation,\n",
        "                  input_shape=input_shape))\n",
        "  model.add(tf.keras.layers.Conv2D(conv_1_channels, (3, 3), activation=activation))\n",
        "  model.add(tf.keras.layers.MaxPooling2D(pool_size=(2, 2)))\n",
        "  model.add(tf.keras.layers.Dropout(dropout))\n",
        "  model.add(tf.keras.layers.Flatten())\n",
        "  model.add(tf.keras.layers.Dense(dense_units, activation=activation))\n",
        "  model.add(tf.keras.layers.Dropout(dropout))\n",
        "  model.add(tf.keras.layers.Dense(num_classes, activation='softmax'))\n",
        "\n",
        "  model.compile(loss=tf.keras.losses.CategoricalCrossentropy(),\n",
        "                optimizer=tf.keras.optimizers.Adam(lr=learning_rate, decay=adam_decay),\n",
        "                metrics=['accuracy'])\n",
        "  \n",
        "  return model"
      ],
      "execution_count": 0,
      "outputs": []
    },
    {
      "cell_type": "code",
      "metadata": {
        "id": "EHVZZvAHI_IR",
        "colab_type": "code",
        "colab": {}
      },
      "source": [
        "model = create_model(activation=\"relu\", learning_rate=0.01, adam_decay=0.0, dropout=0.25, dense_units=128, \n",
        "                 conv_0_channels=32, conv_1_channels=64)"
      ],
      "execution_count": 0,
      "outputs": []
    },
    {
      "cell_type": "code",
      "metadata": {
        "id": "ruatY_J8AwZ_",
        "colab_type": "code",
        "colab": {}
      },
      "source": [
        "model.fit(x_train, y_train,\n",
        "          batch_size=128,\n",
        "          epochs=12,\n",
        "          verbose=1,\n",
        "          validation_data=(x_test, y_test))"
      ],
      "execution_count": 0,
      "outputs": []
    },
    {
      "cell_type": "code",
      "metadata": {
        "id": "fbv4KS6RGYIa",
        "colab_type": "code",
        "colab": {
          "base_uri": "https://localhost:8080/",
          "height": 50
        },
        "outputId": "a6102f18-3474-4fa3-fe61-cc6d3584d244"
      },
      "source": [
        "score = model.evaluate(x_test, y_test, verbose=0)\n",
        "print('Test loss:', score[0])\n",
        "print('Test accuracy:', score[1])"
      ],
      "execution_count": 11,
      "outputs": [
        {
          "output_type": "stream",
          "text": [
            "Test loss: 1.2761435508728027\n",
            "Test accuracy: 0.6093999743461609\n"
          ],
          "name": "stdout"
        }
      ]
    },
    {
      "cell_type": "markdown",
      "metadata": {
        "id": "2bINdNLTGI_E",
        "colab_type": "text"
      },
      "source": [
        "### Baysian Optimization"
      ]
    },
    {
      "cell_type": "code",
      "metadata": {
        "id": "BW_ubySluUzK",
        "colab_type": "code",
        "colab": {}
      },
      "source": [
        "# mount Google Drive first and enter a path where models are stored\n",
        "root_path = \"drive/My Drive/Colab Notebooks/models\""
      ],
      "execution_count": 0,
      "outputs": []
    },
    {
      "cell_type": "code",
      "metadata": {
        "id": "xrqAB0B7JxSJ",
        "colab_type": "code",
        "colab": {
          "base_uri": "https://localhost:8080/",
          "height": 134
        },
        "outputId": "9b4cc2e3-84b2-4cb2-b809-37421279bd96"
      },
      "source": [
        "!pip install scikit-optimize"
      ],
      "execution_count": 13,
      "outputs": [
        {
          "output_type": "stream",
          "text": [
            "Requirement already satisfied: scikit-optimize in /usr/local/lib/python3.6/dist-packages (0.7.4)\n",
            "Requirement already satisfied: numpy>=1.11.0 in /usr/local/lib/python3.6/dist-packages (from scikit-optimize) (1.18.4)\n",
            "Requirement already satisfied: pyaml>=16.9 in /usr/local/lib/python3.6/dist-packages (from scikit-optimize) (20.4.0)\n",
            "Requirement already satisfied: scikit-learn>=0.19.1 in /usr/local/lib/python3.6/dist-packages (from scikit-optimize) (0.22.2.post1)\n",
            "Requirement already satisfied: scipy>=0.18.0 in /usr/local/lib/python3.6/dist-packages (from scikit-optimize) (1.4.1)\n",
            "Requirement already satisfied: joblib>=0.11 in /usr/local/lib/python3.6/dist-packages (from scikit-optimize) (0.15.1)\n",
            "Requirement already satisfied: PyYAML in /usr/local/lib/python3.6/dist-packages (from pyaml>=16.9->scikit-optimize) (3.13)\n"
          ],
          "name": "stdout"
        }
      ]
    },
    {
      "cell_type": "code",
      "metadata": {
        "id": "uH8Mi28ZJooj",
        "colab_type": "code",
        "colab": {}
      },
      "source": [
        "from skopt import gp_minimize, gbrt_minimize\n",
        "from skopt.utils import use_named_args, dump\n",
        "from skopt.space import Real, Categorical, Integer "
      ],
      "execution_count": 0,
      "outputs": []
    },
    {
      "cell_type": "code",
      "metadata": {
        "id": "4eaUY0VLGwGz",
        "colab_type": "code",
        "colab": {}
      },
      "source": [
        "# # define the hyper parameter search space\n",
        "# dim_activation = Categorical([\"relu\", \"tanh\", \"selu\", \"elu\", \"exponential\"], name=\"activation\")\n",
        "# dim_learning_rate = Real(1e-5, 1e-1, prior=\"log-uniform\", name=\"learning_rate\")\n",
        "# dim_adam_decay = Real(1e-8, 1e-1, prior=\"log-uniform\", name=\"adam_decay\")\n",
        "# dim_dropout = Real(0.0, 1.0, name=\"dropout\")\n",
        "# dim_dense_units = Integer(32, 512, prior=\"log-uniform\", base=2, name=\"dense_units\")\n",
        "# dim_conv_0_channels = Integer(8, 64, prior=\"log-uniform\", base=2, name=\"conv_0_channels\")\n",
        "# dim_conv_1_channels = Integer(8, 128, prior=\"log-uniform\", base=2, name=\"conv_1_channels\")\n",
        "# dim_batch_size = Integer(1, 256, prior=\"log-uniform\", base=2, name=\"batch_size\")\n",
        "\n",
        "# dimensions  = [dim_activation,\n",
        "#                dim_learning_rate,\n",
        "#                dim_adam_decay,\n",
        "#                dim_dropout,\n",
        "#                dim_dense_units,\n",
        "#                dim_conv_0_channels,\n",
        "#                dim_conv_1_channels,\n",
        "#                dim_batch_size]\n",
        "\n",
        "# #default_parameters = [\"relu\", 0.01, 0.0, 0.25, 128, 32, 64, 128]  # this yields already quite a good validation accuracy\n",
        "# default_parameters = [\"tanh\", 0.01, 1e-8, 0.0, 64, 16, 32, 128]  # start with a worse configuration to demonstrate BO"
      ],
      "execution_count": 0,
      "outputs": []
    },
    {
      "cell_type": "code",
      "metadata": {
        "id": "a4QYRL_KECSO",
        "colab_type": "code",
        "colab": {}
      },
      "source": [
        "# define the hyper parameter search space\n",
        "dim_activation = Categorical([\"relu\", \"tanh\", \"selu\", \"elu\", \"exponential\"], name=\"activation\")\n",
        "dim_learning_rate = Real(1e-5, 1e-1, prior=\"log-uniform\", name=\"learning_rate\")\n",
        "dim_adam_decay = Real(1e-8, 1e-1, prior=\"log-uniform\", name=\"adam_decay\")\n",
        "dim_dropout = Real(0.0, 1.0, name=\"dropout\")\n",
        "dim_dense_units = Integer(5, 9, prior=\"uniform\", name=\"dense_units\")  # log2\n",
        "dim_conv_0_channels = Integer(3, 6, prior=\"uniform\", name=\"conv_0_channels\")  # log2\n",
        "dim_conv_1_channels = Integer(3, 7, prior=\"uniform\", name=\"conv_1_channels\")  # log2\n",
        "dim_batch_size = Integer(6, 9, prior=\"uniform\", name=\"batch_size\")  # log2\n",
        "\n",
        "dimensions  = [dim_activation,\n",
        "               dim_learning_rate,\n",
        "               dim_adam_decay,\n",
        "               dim_dropout,\n",
        "               dim_dense_units,\n",
        "               dim_conv_0_channels,\n",
        "               dim_conv_1_channels,\n",
        "               dim_batch_size]\n",
        "\n",
        "#default_parameters = [\"relu\", 0.01, 0.0, 0.25, np.log2(128), np.log2(32), np.log2(64), np.log2(128)]  # this yields already quite a good validation accuracy\n",
        "default_parameters = [\"tanh\", 0.01, 1e-8, 0.0, np.log2(64), np.log2(16), np.log2(32), np.log2(128)]  # start with a worse configuration to demonstrate BO"
      ],
      "execution_count": 0,
      "outputs": []
    },
    {
      "cell_type": "code",
      "metadata": {
        "id": "WzyneAmxDxg4",
        "colab_type": "code",
        "colab": {}
      },
      "source": [
        "# # draw a sample from the parameter space for debugging\n",
        "# from skopt.space.space import Space\n",
        "# space = Space(dimensions)\n",
        "# space.rvs()"
      ],
      "execution_count": 0,
      "outputs": []
    },
    {
      "cell_type": "code",
      "metadata": {
        "id": "7oZTM--9LbVW",
        "colab_type": "code",
        "colab": {}
      },
      "source": [
        "# fit model with default parameters\n",
        "#model = create_model(*default_parameters[:-1])\n",
        "#hist = model.fit(x_train, y_train, epochs=8, batch_size=128, validation_data=(x_test, y_test), verbose=1)"
      ],
      "execution_count": 0,
      "outputs": []
    },
    {
      "cell_type": "code",
      "metadata": {
        "id": "uXYMshoiGGRn",
        "colab_type": "code",
        "colab": {}
      },
      "source": [
        "# objective function which trains and evaluates the model with a given hyperparameter config \n",
        "model_ids = []\n",
        "\n",
        "@use_named_args(dimensions=dimensions)\n",
        "def objective(activation, learning_rate, adam_decay, dropout, dense_units, \n",
        "              conv_0_channels, conv_1_channels, batch_size):\n",
        "  \n",
        "  print(activation, learning_rate, adam_decay, dropout, int(2**dense_units), \n",
        "                 int(2**conv_0_channels), int(2**conv_1_channels), int(2**batch_size))\n",
        "\n",
        "  model = create_model(activation, learning_rate, adam_decay, dropout, int(2**dense_units), \n",
        "                 int(2**conv_0_channels), int(2**conv_1_channels))\n",
        "  \n",
        "  model_fitted = model.fit(x_train, y_train, epochs=8, batch_size=int(2**batch_size), validation_data=(x_test, y_test), verbose=1)\n",
        "\n",
        "  accuracy = model_fitted.history[\"val_accuracy\"][-1]\n",
        "\n",
        "  id = uuid.uuid4()\n",
        "  model_ids.append(id)\n",
        "  print(\"Model {}-- Accuracy: {:.2%}\".format(id, accuracy))\n",
        "\n",
        "  # save weights\n",
        "  model.save_weights(os.path.join(root_path, 'model-{}'.format(id)) )\n",
        "\n",
        "  del model\n",
        "  tf.keras.backend.clear_session()\n",
        "\n",
        "  return -accuracy"
      ],
      "execution_count": 0,
      "outputs": []
    },
    {
      "cell_type": "code",
      "metadata": {
        "id": "vpF4fozuKynd",
        "colab_type": "code",
        "colab": {
          "base_uri": "https://localhost:8080/",
          "height": 1000
        },
        "outputId": "41316ba0-e5a7-4c45-f986-d3a42613eeef"
      },
      "source": [
        "gp_result = gp_minimize(func=objective,\n",
        "                        dimensions=dimensions,\n",
        "                        n_calls=12,\n",
        "                        noise=0.01,\n",
        "                        n_jobs=-1,\n",
        "                        kappa=5,\n",
        "                        x0=default_parameters,\n",
        "                        random_state=0,\n",
        "                        verbose=True)"
      ],
      "execution_count": 32,
      "outputs": [
        {
          "output_type": "stream",
          "text": [
            "Iteration No: 1 started. Evaluating function at provided point.\n",
            "tanh 0.01 1e-08 0.0 64 16 32 128\n",
            "Epoch 1/8\n",
            "469/469 [==============================] - 5s 10ms/step - loss: 0.2177 - accuracy: 0.9339 - val_loss: 0.1588 - val_accuracy: 0.9480\n",
            "Epoch 2/8\n",
            "469/469 [==============================] - 4s 9ms/step - loss: 0.1863 - accuracy: 0.9426 - val_loss: 0.2503 - val_accuracy: 0.9192\n",
            "Epoch 3/8\n",
            "469/469 [==============================] - 4s 9ms/step - loss: 0.2352 - accuracy: 0.9267 - val_loss: 0.2233 - val_accuracy: 0.9296\n",
            "Epoch 4/8\n",
            "469/469 [==============================] - 4s 9ms/step - loss: 0.2214 - accuracy: 0.9325 - val_loss: 0.2351 - val_accuracy: 0.9251\n",
            "Epoch 5/8\n",
            "469/469 [==============================] - 4s 9ms/step - loss: 0.2389 - accuracy: 0.9250 - val_loss: 0.1622 - val_accuracy: 0.9494\n",
            "Epoch 6/8\n",
            "469/469 [==============================] - 4s 9ms/step - loss: 0.2032 - accuracy: 0.9373 - val_loss: 0.2366 - val_accuracy: 0.9260\n",
            "Epoch 7/8\n",
            "469/469 [==============================] - 4s 9ms/step - loss: 0.2057 - accuracy: 0.9380 - val_loss: 0.2047 - val_accuracy: 0.9366\n",
            "Epoch 8/8\n",
            "469/469 [==============================] - 4s 9ms/step - loss: 0.2612 - accuracy: 0.9192 - val_loss: 0.2455 - val_accuracy: 0.9220\n",
            "Model 7c2f32b9-6c76-491b-8fab-12e4b9467e4e-- Accuracy: 92.20%\n",
            "Iteration No: 1 ended. Evaluation done at provided point.\n",
            "Time taken: 35.5667\n",
            "Function value obtained: -0.9220\n",
            "Current minimum: -0.9220\n",
            "Iteration No: 2 started. Evaluating function at random point.\n",
            "selu 0.023826650493636678 0.010130230408794514 0.8472517387841256 128 16 16 64\n",
            "Epoch 1/8\n",
            "938/938 [==============================] - 6s 7ms/step - loss: 1.2272 - accuracy: 0.6271 - val_loss: 0.3286 - val_accuracy: 0.9159\n",
            "Epoch 2/8\n",
            "938/938 [==============================] - 7s 7ms/step - loss: 0.7143 - accuracy: 0.7691 - val_loss: 0.2628 - val_accuracy: 0.9274\n",
            "Epoch 3/8\n",
            "938/938 [==============================] - 7s 8ms/step - loss: 0.6103 - accuracy: 0.8090 - val_loss: 0.2448 - val_accuracy: 0.9301\n",
            "Epoch 4/8\n",
            "938/938 [==============================] - 7s 7ms/step - loss: 0.5462 - accuracy: 0.8304 - val_loss: 0.1932 - val_accuracy: 0.9439\n",
            "Epoch 5/8\n",
            "938/938 [==============================] - 7s 7ms/step - loss: 0.4984 - accuracy: 0.8461 - val_loss: 0.1730 - val_accuracy: 0.9486\n",
            "Epoch 6/8\n",
            "938/938 [==============================] - 7s 7ms/step - loss: 0.4574 - accuracy: 0.8586 - val_loss: 0.1649 - val_accuracy: 0.9512\n",
            "Epoch 7/8\n",
            "938/938 [==============================] - 7s 7ms/step - loss: 0.4303 - accuracy: 0.8681 - val_loss: 0.1470 - val_accuracy: 0.9564\n",
            "Epoch 8/8\n",
            "938/938 [==============================] - 7s 7ms/step - loss: 0.4135 - accuracy: 0.8733 - val_loss: 0.1378 - val_accuracy: 0.9583\n",
            "Model d3628f83-003f-4095-a368-b45f7b71cd7f-- Accuracy: 95.83%\n",
            "Iteration No: 2 ended. Evaluation done at random point.\n",
            "Time taken: 56.1663\n",
            "Function value obtained: -0.9583\n",
            "Current minimum: -0.9583\n",
            "Iteration No: 3 started. Evaluating function at random point.\n",
            "tanh 0.0008140675984583295 0.004843743102654484 0.47997717237505744 128 64 16 256\n",
            "Epoch 1/8\n",
            "235/235 [==============================] - 5s 20ms/step - loss: 0.4488 - accuracy: 0.8634 - val_loss: 0.1791 - val_accuracy: 0.9487\n",
            "Epoch 2/8\n",
            "235/235 [==============================] - 4s 19ms/step - loss: 0.2286 - accuracy: 0.9309 - val_loss: 0.1253 - val_accuracy: 0.9629\n",
            "Epoch 3/8\n",
            "235/235 [==============================] - 4s 19ms/step - loss: 0.1835 - accuracy: 0.9447 - val_loss: 0.1015 - val_accuracy: 0.9689\n",
            "Epoch 4/8\n",
            "235/235 [==============================] - 4s 19ms/step - loss: 0.1624 - accuracy: 0.9509 - val_loss: 0.0896 - val_accuracy: 0.9724\n",
            "Epoch 5/8\n",
            "235/235 [==============================] - 4s 19ms/step - loss: 0.1493 - accuracy: 0.9539 - val_loss: 0.0811 - val_accuracy: 0.9748\n",
            "Epoch 6/8\n",
            "235/235 [==============================] - 4s 19ms/step - loss: 0.1387 - accuracy: 0.9572 - val_loss: 0.0755 - val_accuracy: 0.9770\n",
            "Epoch 7/8\n",
            "235/235 [==============================] - 4s 19ms/step - loss: 0.1315 - accuracy: 0.9596 - val_loss: 0.0717 - val_accuracy: 0.9780\n",
            "Epoch 8/8\n",
            "235/235 [==============================] - 4s 19ms/step - loss: 0.1265 - accuracy: 0.9612 - val_loss: 0.0673 - val_accuracy: 0.9790\n",
            "Model ad49a657-9a2a-4516-8882-34a18e885a26-- Accuracy: 97.90%\n",
            "Iteration No: 3 ended. Evaluation done at random point.\n",
            "Time taken: 36.7495\n",
            "Function value obtained: -0.9790\n",
            "Current minimum: -0.9790\n",
            "Iteration No: 4 started. Evaluating function at random point.\n",
            "tanh 0.06739390723749777 9.604073230958371e-08 0.8700872583584366 128 32 32 256\n",
            "Epoch 1/8\n",
            "235/235 [==============================] - 5s 20ms/step - loss: 3.5890 - accuracy: 0.0997 - val_loss: 2.4023 - val_accuracy: 0.0974\n",
            "Epoch 2/8\n",
            "235/235 [==============================] - 4s 18ms/step - loss: 3.3990 - accuracy: 0.1037 - val_loss: 2.4206 - val_accuracy: 0.1028\n",
            "Epoch 3/8\n",
            "235/235 [==============================] - 4s 18ms/step - loss: 3.4186 - accuracy: 0.0996 - val_loss: 2.4633 - val_accuracy: 0.0980\n",
            "Epoch 4/8\n",
            "235/235 [==============================] - 4s 18ms/step - loss: 3.5068 - accuracy: 0.1012 - val_loss: 2.6264 - val_accuracy: 0.0892\n",
            "Epoch 5/8\n",
            "235/235 [==============================] - 4s 18ms/step - loss: 3.3867 - accuracy: 0.1006 - val_loss: 2.4975 - val_accuracy: 0.1009\n",
            "Epoch 6/8\n",
            "235/235 [==============================] - 4s 18ms/step - loss: 3.4413 - accuracy: 0.1006 - val_loss: 2.4876 - val_accuracy: 0.1135\n",
            "Epoch 7/8\n",
            "235/235 [==============================] - 4s 18ms/step - loss: 3.4022 - accuracy: 0.1013 - val_loss: 2.5059 - val_accuracy: 0.0980\n",
            "Epoch 8/8\n",
            "235/235 [==============================] - 4s 18ms/step - loss: 3.4593 - accuracy: 0.1015 - val_loss: 2.4960 - val_accuracy: 0.1032\n",
            "Model 7e11e952-629e-49b6-ab14-966c732119a6-- Accuracy: 10.32%\n",
            "Iteration No: 4 ended. Evaluation done at random point.\n",
            "Time taken: 34.7707\n",
            "Function value obtained: -0.1032\n",
            "Current minimum: -0.9790\n",
            "Iteration No: 5 started. Evaluating function at random point.\n",
            "elu 0.0021285270235317324 5.775806114202406e-05 0.7586156243223574 32 16 16 256\n",
            "Epoch 1/8\n",
            "235/235 [==============================] - 3s 12ms/step - loss: 1.0426 - accuracy: 0.6519 - val_loss: 0.2474 - val_accuracy: 0.9402\n",
            "Epoch 2/8\n",
            "235/235 [==============================] - 3s 12ms/step - loss: 0.7010 - accuracy: 0.7710 - val_loss: 0.1724 - val_accuracy: 0.9547\n",
            "Epoch 3/8\n",
            "235/235 [==============================] - 3s 11ms/step - loss: 0.6127 - accuracy: 0.8015 - val_loss: 0.1418 - val_accuracy: 0.9610\n",
            "Epoch 4/8\n",
            "235/235 [==============================] - 3s 11ms/step - loss: 0.5802 - accuracy: 0.8116 - val_loss: 0.1280 - val_accuracy: 0.9637\n",
            "Epoch 5/8\n",
            "235/235 [==============================] - 3s 11ms/step - loss: 0.5436 - accuracy: 0.8241 - val_loss: 0.1203 - val_accuracy: 0.9663\n",
            "Epoch 6/8\n",
            "235/235 [==============================] - 3s 11ms/step - loss: 0.5188 - accuracy: 0.8342 - val_loss: 0.1081 - val_accuracy: 0.9681\n",
            "Epoch 7/8\n",
            "235/235 [==============================] - 3s 11ms/step - loss: 0.4987 - accuracy: 0.8375 - val_loss: 0.1075 - val_accuracy: 0.9688\n",
            "Epoch 8/8\n",
            "235/235 [==============================] - 3s 11ms/step - loss: 0.4884 - accuracy: 0.8408 - val_loss: 0.0957 - val_accuracy: 0.9708\n",
            "Model d9927858-84c5-4758-b254-c6604cb5b1fa-- Accuracy: 97.08%\n",
            "Iteration No: 5 ended. Evaluation done at random point.\n",
            "Time taken: 22.5187\n",
            "Function value obtained: -0.9708\n",
            "Current minimum: -0.9790\n",
            "Iteration No: 6 started. Evaluating function at random point.\n",
            "tanh 3.474343017884354e-05 1.8577490784921693e-06 0.1496748671836832 64 16 128 128\n",
            "Epoch 1/8\n",
            "469/469 [==============================] - 9s 19ms/step - loss: 0.7633 - accuracy: 0.8282 - val_loss: 0.3565 - val_accuracy: 0.9108\n",
            "Epoch 2/8\n",
            "469/469 [==============================] - 9s 18ms/step - loss: 0.3281 - accuracy: 0.9117 - val_loss: 0.2609 - val_accuracy: 0.9299\n",
            "Epoch 3/8\n",
            "469/469 [==============================] - 8s 18ms/step - loss: 0.2574 - accuracy: 0.9294 - val_loss: 0.2105 - val_accuracy: 0.9417\n",
            "Epoch 4/8\n",
            "469/469 [==============================] - 8s 18ms/step - loss: 0.2117 - accuracy: 0.9427 - val_loss: 0.1769 - val_accuracy: 0.9520\n",
            "Epoch 5/8\n",
            "469/469 [==============================] - 8s 18ms/step - loss: 0.1790 - accuracy: 0.9513 - val_loss: 0.1509 - val_accuracy: 0.9596\n",
            "Epoch 6/8\n",
            "469/469 [==============================] - 8s 18ms/step - loss: 0.1542 - accuracy: 0.9594 - val_loss: 0.1302 - val_accuracy: 0.9645\n",
            "Epoch 7/8\n",
            "469/469 [==============================] - 9s 18ms/step - loss: 0.1330 - accuracy: 0.9659 - val_loss: 0.1148 - val_accuracy: 0.9690\n",
            "Epoch 8/8\n",
            "469/469 [==============================] - 8s 18ms/step - loss: 0.1174 - accuracy: 0.9695 - val_loss: 0.1020 - val_accuracy: 0.9734\n",
            "Model 31c76659-0282-4a1f-b482-3f86fbf835a0-- Accuracy: 97.34%\n",
            "Iteration No: 6 ended. Evaluation done at random point.\n",
            "Time taken: 69.1011\n",
            "Function value obtained: -0.9734\n",
            "Current minimum: -0.9790\n",
            "Iteration No: 7 started. Evaluating function at random point.\n",
            "elu 0.04068125410377036 4.9540735787386844e-08 0.969809067746749 256 16 16 256\n",
            "Epoch 1/8\n",
            "235/235 [==============================] - 3s 13ms/step - loss: 6.3855 - accuracy: 0.1002 - val_loss: 2.4248 - val_accuracy: 0.1028\n",
            "Epoch 2/8\n",
            "235/235 [==============================] - 3s 12ms/step - loss: 32.4628 - accuracy: 0.0996 - val_loss: 2.4346 - val_accuracy: 0.1009\n",
            "Epoch 3/8\n",
            "235/235 [==============================] - 3s 12ms/step - loss: 6.2003 - accuracy: 0.1025 - val_loss: 2.4212 - val_accuracy: 0.1009\n",
            "Epoch 4/8\n",
            "235/235 [==============================] - 3s 12ms/step - loss: 5.6451 - accuracy: 0.1006 - val_loss: 2.4805 - val_accuracy: 0.0958\n",
            "Epoch 5/8\n",
            "235/235 [==============================] - 3s 12ms/step - loss: 6.1741 - accuracy: 0.1008 - val_loss: 2.8260 - val_accuracy: 0.1135\n",
            "Epoch 6/8\n",
            "235/235 [==============================] - 3s 12ms/step - loss: 6.7224 - accuracy: 0.1011 - val_loss: 2.6155 - val_accuracy: 0.0892\n",
            "Epoch 7/8\n",
            "235/235 [==============================] - 3s 12ms/step - loss: 7.4586 - accuracy: 0.0998 - val_loss: 2.7276 - val_accuracy: 0.1135\n",
            "Epoch 8/8\n",
            "235/235 [==============================] - 3s 12ms/step - loss: 6.0884 - accuracy: 0.1024 - val_loss: 2.5236 - val_accuracy: 0.0980\n",
            "Model ca3a44d7-35be-45f4-aec3-fa399cf41404-- Accuracy: 9.80%\n",
            "Iteration No: 7 ended. Evaluation done at random point.\n",
            "Time taken: 23.4455\n",
            "Function value obtained: -0.0980\n",
            "Current minimum: -0.9790\n",
            "Iteration No: 8 started. Evaluating function at random point.\n",
            "elu 0.00019961304333831489 1.8577102840720935e-08 0.6342740579573352 512 32 64 512\n",
            "Epoch 1/8\n",
            "118/118 [==============================] - 6s 51ms/step - loss: 0.5454 - accuracy: 0.8377 - val_loss: 0.2404 - val_accuracy: 0.9321\n",
            "Epoch 2/8\n",
            "118/118 [==============================] - 6s 49ms/step - loss: 0.2527 - accuracy: 0.9254 - val_loss: 0.1544 - val_accuracy: 0.9553\n",
            "Epoch 3/8\n",
            "118/118 [==============================] - 6s 49ms/step - loss: 0.1822 - accuracy: 0.9466 - val_loss: 0.1134 - val_accuracy: 0.9656\n",
            "Epoch 4/8\n",
            "118/118 [==============================] - 6s 49ms/step - loss: 0.1467 - accuracy: 0.9560 - val_loss: 0.0882 - val_accuracy: 0.9728\n",
            "Epoch 5/8\n",
            "118/118 [==============================] - 6s 49ms/step - loss: 0.1256 - accuracy: 0.9624 - val_loss: 0.0733 - val_accuracy: 0.9768\n",
            "Epoch 6/8\n",
            "118/118 [==============================] - 6s 49ms/step - loss: 0.1113 - accuracy: 0.9666 - val_loss: 0.0671 - val_accuracy: 0.9778\n",
            "Epoch 7/8\n",
            "118/118 [==============================] - 6s 49ms/step - loss: 0.1036 - accuracy: 0.9682 - val_loss: 0.0613 - val_accuracy: 0.9800\n",
            "Epoch 8/8\n",
            "118/118 [==============================] - 6s 49ms/step - loss: 0.0940 - accuracy: 0.9716 - val_loss: 0.0551 - val_accuracy: 0.9816\n",
            "Model 4b10919d-24c5-4be8-8aa2-ba2a0b3c64db-- Accuracy: 98.16%\n",
            "Iteration No: 8 ended. Evaluation done at random point.\n",
            "Time taken: 47.8438\n",
            "Function value obtained: -0.9816\n",
            "Current minimum: -0.9816\n",
            "Iteration No: 9 started. Evaluating function at random point.\n",
            "selu 0.00045443769977252776 2.1032094091909653e-05 0.6235101011318683 64 32 16 256\n",
            "Epoch 1/8\n",
            "235/235 [==============================] - 3s 15ms/step - loss: 0.7642 - accuracy: 0.7527 - val_loss: 0.2474 - val_accuracy: 0.9270\n",
            "Epoch 2/8\n",
            "235/235 [==============================] - 3s 14ms/step - loss: 0.4257 - accuracy: 0.8699 - val_loss: 0.1832 - val_accuracy: 0.9460\n",
            "Epoch 3/8\n",
            "235/235 [==============================] - 3s 14ms/step - loss: 0.3475 - accuracy: 0.8953 - val_loss: 0.1446 - val_accuracy: 0.9561\n",
            "Epoch 4/8\n",
            "235/235 [==============================] - 3s 14ms/step - loss: 0.2952 - accuracy: 0.9122 - val_loss: 0.1341 - val_accuracy: 0.9610\n",
            "Epoch 5/8\n",
            "235/235 [==============================] - 3s 14ms/step - loss: 0.2593 - accuracy: 0.9224 - val_loss: 0.1035 - val_accuracy: 0.9684\n",
            "Epoch 6/8\n",
            "235/235 [==============================] - 3s 14ms/step - loss: 0.2360 - accuracy: 0.9289 - val_loss: 0.0915 - val_accuracy: 0.9727\n",
            "Epoch 7/8\n",
            "235/235 [==============================] - 3s 14ms/step - loss: 0.2120 - accuracy: 0.9372 - val_loss: 0.0817 - val_accuracy: 0.9751\n",
            "Epoch 8/8\n",
            "235/235 [==============================] - 3s 14ms/step - loss: 0.1965 - accuracy: 0.9415 - val_loss: 0.0752 - val_accuracy: 0.9758\n",
            "Model f3cb853e-0179-4109-be0d-cf0a3ca0f698-- Accuracy: 97.58%\n",
            "Iteration No: 9 ended. Evaluation done at random point.\n",
            "Time taken: 27.2975\n",
            "Function value obtained: -0.9758\n",
            "Current minimum: -0.9816\n",
            "Iteration No: 10 started. Evaluating function at random point.\n",
            "exponential 0.004467941393600852 1.2445187648498989e-08 0.6228460955466696 256 64 128 256\n",
            "Epoch 1/8\n",
            "235/235 [==============================] - 12s 50ms/step - loss: nan - accuracy: 0.0987 - val_loss: nan - val_accuracy: 0.0980\n",
            "Epoch 2/8\n",
            "235/235 [==============================] - 12s 49ms/step - loss: nan - accuracy: 0.0987 - val_loss: nan - val_accuracy: 0.0980\n",
            "Epoch 3/8\n",
            "235/235 [==============================] - 11s 49ms/step - loss: nan - accuracy: 0.0987 - val_loss: nan - val_accuracy: 0.0980\n",
            "Epoch 4/8\n",
            "235/235 [==============================] - 12s 49ms/step - loss: nan - accuracy: 0.0987 - val_loss: nan - val_accuracy: 0.0980\n",
            "Epoch 5/8\n",
            "235/235 [==============================] - 11s 49ms/step - loss: nan - accuracy: 0.0987 - val_loss: nan - val_accuracy: 0.0980\n",
            "Epoch 6/8\n",
            "235/235 [==============================] - 12s 49ms/step - loss: nan - accuracy: 0.0987 - val_loss: nan - val_accuracy: 0.0980\n",
            "Epoch 7/8\n",
            "235/235 [==============================] - 12s 49ms/step - loss: nan - accuracy: 0.0987 - val_loss: nan - val_accuracy: 0.0980\n",
            "Epoch 8/8\n",
            "235/235 [==============================] - 11s 49ms/step - loss: nan - accuracy: 0.0987 - val_loss: nan - val_accuracy: 0.0980\n",
            "Model e1a2c2b2-6e81-4f40-a3dc-3ad7dd024bd7-- Accuracy: 9.80%\n",
            "Iteration No: 10 ended. Evaluation done at random point.\n",
            "Time taken: 93.8749\n",
            "Function value obtained: -0.0980\n",
            "Current minimum: -0.9816\n",
            "Iteration No: 11 started. Evaluating function at random point.\n",
            "relu 0.0006377300155643865 1.3801098575179591e-08 0.4417109212488455 512 16 32 256\n",
            "Epoch 1/8\n",
            "235/235 [==============================] - 4s 18ms/step - loss: 0.3029 - accuracy: 0.9097 - val_loss: 0.0756 - val_accuracy: 0.9762\n",
            "Epoch 2/8\n",
            "235/235 [==============================] - 4s 17ms/step - loss: 0.0876 - accuracy: 0.9735 - val_loss: 0.0494 - val_accuracy: 0.9836\n",
            "Epoch 3/8\n",
            "235/235 [==============================] - 4s 16ms/step - loss: 0.0636 - accuracy: 0.9801 - val_loss: 0.0359 - val_accuracy: 0.9875\n",
            "Epoch 4/8\n",
            "235/235 [==============================] - 4s 16ms/step - loss: 0.0500 - accuracy: 0.9842 - val_loss: 0.0338 - val_accuracy: 0.9887\n",
            "Epoch 5/8\n",
            "235/235 [==============================] - 4s 16ms/step - loss: 0.0426 - accuracy: 0.9870 - val_loss: 0.0289 - val_accuracy: 0.9905\n",
            "Epoch 6/8\n",
            "235/235 [==============================] - 4s 16ms/step - loss: 0.0375 - accuracy: 0.9880 - val_loss: 0.0284 - val_accuracy: 0.9913\n",
            "Epoch 7/8\n",
            "235/235 [==============================] - 4s 16ms/step - loss: 0.0316 - accuracy: 0.9901 - val_loss: 0.0285 - val_accuracy: 0.9907\n",
            "Epoch 8/8\n",
            "235/235 [==============================] - 4s 16ms/step - loss: 0.0296 - accuracy: 0.9907 - val_loss: 0.0273 - val_accuracy: 0.9915\n",
            "Model 67315475-2487-4ba5-872f-c1e8f2a9c006-- Accuracy: 99.15%\n",
            "Iteration No: 11 ended. Evaluation done at random point.\n",
            "Time taken: 34.2307\n",
            "Function value obtained: -0.9915\n",
            "Current minimum: -0.9915\n",
            "Iteration No: 12 started. Searching for the next optimal point.\n",
            "exponential 1e-05 0.1 0.0 256 8 8 128\n",
            "Epoch 1/8\n",
            "469/469 [==============================] - 4s 8ms/step - loss: 983.0308 - accuracy: 0.1011 - val_loss: 817.2855 - val_accuracy: 0.0992\n",
            "Epoch 2/8\n",
            "469/469 [==============================] - 4s 8ms/step - loss: 686.5867 - accuracy: 0.1022 - val_loss: 688.7571 - val_accuracy: 0.0987\n",
            "Epoch 3/8\n",
            "469/469 [==============================] - 4s 8ms/step - loss: 601.2890 - accuracy: 0.1023 - val_loss: 621.4156 - val_accuracy: 0.0972\n",
            "Epoch 4/8\n",
            "469/469 [==============================] - 4s 8ms/step - loss: 550.6954 - accuracy: 0.1019 - val_loss: 576.7839 - val_accuracy: 0.0986\n",
            "Epoch 5/8\n",
            "469/469 [==============================] - 4s 8ms/step - loss: 515.1641 - accuracy: 0.1020 - val_loss: 543.6459 - val_accuracy: 0.0986\n",
            "Epoch 6/8\n",
            "469/469 [==============================] - 4s 8ms/step - loss: 488.1469 - accuracy: 0.1017 - val_loss: 517.6719 - val_accuracy: 0.0960\n",
            "Epoch 7/8\n",
            "469/469 [==============================] - 4s 8ms/step - loss: 466.2148 - accuracy: 0.1014 - val_loss: 495.9496 - val_accuracy: 0.0958\n",
            "Epoch 8/8\n",
            "469/469 [==============================] - 4s 8ms/step - loss: 447.8018 - accuracy: 0.1012 - val_loss: 477.6574 - val_accuracy: 0.0959\n",
            "Model 9fbe2b12-6197-4fc0-ad03-0c12534fd780-- Accuracy: 9.59%\n",
            "Iteration No: 12 ended. Search finished for the next optimal point.\n",
            "Time taken: 32.0346\n",
            "Function value obtained: -0.0959\n",
            "Current minimum: -0.9915\n"
          ],
          "name": "stdout"
        }
      ]
    },
    {
      "cell_type": "code",
      "metadata": {
        "id": "jtarQUFi_Tdf",
        "colab_type": "code",
        "colab": {}
      },
      "source": [
        "dump(gp_result, os.path.join(root_path, \"BO_result.pkl\"))"
      ],
      "execution_count": 0,
      "outputs": []
    },
    {
      "cell_type": "code",
      "metadata": {
        "id": "P7f2-KT6wzSn",
        "colab_type": "code",
        "colab": {
          "base_uri": "https://localhost:8080/",
          "height": 151
        },
        "outputId": "44ebb061-4ee0-4a57-fba2-bf892b57d7f7"
      },
      "source": [
        "gp_result.x"
      ],
      "execution_count": 34,
      "outputs": [
        {
          "output_type": "execute_result",
          "data": {
            "text/plain": [
              "['relu',\n",
              " 0.0006377300155643865,\n",
              " 1.3801098575179591e-08,\n",
              " 0.4417109212488455,\n",
              " 9,\n",
              " 4,\n",
              " 5,\n",
              " 8]"
            ]
          },
          "metadata": {
            "tags": []
          },
          "execution_count": 34
        }
      ]
    },
    {
      "cell_type": "code",
      "metadata": {
        "id": "HSpUeqA2M_mM",
        "colab_type": "code",
        "colab": {
          "base_uri": "https://localhost:8080/",
          "height": 314
        },
        "outputId": "5780da92-1082-49c6-e3b3-55a24bfb28d7"
      },
      "source": [
        "from skopt.plots import plot_convergence\n",
        "plot_convergence(gp_result)"
      ],
      "execution_count": 35,
      "outputs": [
        {
          "output_type": "execute_result",
          "data": {
            "text/plain": [
              "<matplotlib.axes._subplots.AxesSubplot at 0x7f77817680b8>"
            ]
          },
          "metadata": {
            "tags": []
          },
          "execution_count": 35
        },
        {
          "output_type": "display_data",
          "data": {
            "image/png": "[encoded data removed]",
            "text/plain": [
              "<Figure size 432x288 with 1 Axes>"
            ]
          },
          "metadata": {
            "tags": [],
            "needs_background": "light"
          }
        }
      ]
    },
    {
      "cell_type": "markdown",
      "metadata": {
        "id": "hg-o6xkJveAh",
        "colab_type": "text"
      },
      "source": [
        "### Load best model"
      ]
    },
    {
      "cell_type": "code",
      "metadata": {
        "id": "hUPWgJtevfQ7",
        "colab_type": "code",
        "colab": {
          "base_uri": "https://localhost:8080/",
          "height": 50
        },
        "outputId": "b12d3a6d-3ad9-4d30-a954-cc3e2c6d70bf"
      },
      "source": [
        "#best_model_id = \"61504fa2-5f6e-4a89-9041-858be90208b7\"\n",
        "best_model_id = model_ids[gp_result.x_iters.index(gp_result.x)]\n",
        "#model_loaded = create_model(*(gp_result.x[:-1]))\n",
        "\n",
        "activation = gp_result.x[0]\n",
        "learning_rate = gp_result.x[1]\n",
        "adam_decay = gp_result.x[2]\n",
        "dropout = gp_result.x[3]\n",
        "dense_units = int(2**gp_result.x[4])\n",
        "conv_0_channels = int(2**gp_result.x[5])\n",
        "conv_1_channels = int(2**gp_result.x[6])\n",
        "model_loaded = create_model(activation, learning_rate, adam_decay, dropout,\n",
        "                            dense_units, conv_0_channels, conv_1_channels)\n",
        "\n",
        "model_loaded.load_weights(os.path.join(root_path, \"model-{}\".format(best_model_id)))\n",
        "\n",
        "score = model_loaded.evaluate(x_test, y_test, verbose=0)\n",
        "print('Test loss:', score[0])\n",
        "print('Test accuracy:', score[1])"
      ],
      "execution_count": 41,
      "outputs": [
        {
          "output_type": "stream",
          "text": [
            "Test loss: 0.02731534093618393\n",
            "Test accuracy: 0.9915000200271606\n"
          ],
          "name": "stdout"
        }
      ]
    },
    {
      "cell_type": "markdown",
      "metadata": {
        "id": "kBrrVi5YT6Mf",
        "colab_type": "text"
      },
      "source": [
        "### Retrain the best model"
      ]
    },
    {
      "cell_type": "code",
      "metadata": {
        "id": "EVXkICJmT000",
        "colab_type": "code",
        "colab": {}
      },
      "source": [
        "# model_best = create_model(*(gp_result.x[:-1]))\n",
        "# model_best.fit(x_train, y_train, epochs=8, batch_size=gp_result.x[-1], validation_data=(x_test, y_test), verbose=1)\n",
        "# score = model_best.evaluate(x_test, y_test, verbose=0)\n",
        "# print('Test loss:', score[0])\n",
        "# print('Test accuracy:', score[1])"
      ],
      "execution_count": 0,
      "outputs": []
    }
  ]
}
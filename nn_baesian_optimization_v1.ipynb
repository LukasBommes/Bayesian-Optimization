{
  "nbformat": 4,
  "nbformat_minor": 0,
  "metadata": {
    "colab": {
      "name": "nn_baesian_optimization.ipynb",
      "provenance": [],
      "collapsed_sections": [],
      "toc_visible": true
    },
    "kernelspec": {
      "name": "python3",
      "display_name": "Python 3"
    },
    "accelerator": "GPU"
  },
  "cells": [
    {
      "cell_type": "markdown",
      "metadata": {
        "id": "Pvz0emj1Bhox",
        "colab_type": "text"
      },
      "source": [
        "# CNN Hyperparameter Tuning with Bayesian Optimization for MNIST Classification\n",
        "\n",
        "This example demonstrate the usage of Bayesian optimization (BO) as implemented in scikit-optimize for tuning the hyper parameters of a neural network. As compared to grid search or random search less hyper parameter combinations need to be evaluated to determine the near-optimal configuration.\n",
        "\n",
        "In each iteration of BO the neural network is trained with a different set of hyper parameters and its validation accuracy is computed. A gaussian process is fitted to the validation accuracy over the space of hyper parameters. An acquistion function which is a function of the fitted gaussian process is sampled for the next suitable hyper parameter combination which is expected to increase validation accuracy."
      ]
    },
    {
      "cell_type": "code",
      "metadata": {
        "id": "O8NVa79X_8_v",
        "colab_type": "code",
        "colab": {}
      },
      "source": [
        "import tensorflow as tf\n",
        "import numpy as np\n",
        "import uuid\n",
        "import os"
      ],
      "execution_count": 0,
      "outputs": []
    },
    {
      "cell_type": "code",
      "metadata": {
        "id": "IncJshjtANMd",
        "colab_type": "code",
        "colab": {
          "base_uri": "https://localhost:8080/",
          "height": 50
        },
        "outputId": "7951f804-680a-4de6-8268-2f2b9ca7e9ed"
      },
      "source": [
        "(x_train, y_train), (x_test, y_test) = tf.keras.datasets.mnist.load_data()"
      ],
      "execution_count": 3,
      "outputs": [
        {
          "output_type": "stream",
          "text": [
            "Downloading data from https://storage.googleapis.com/tensorflow/tf-keras-datasets/mnist.npz\n",
            "11493376/11490434 [==============================] - 0s 0us/step\n"
          ],
          "name": "stdout"
        }
      ]
    },
    {
      "cell_type": "code",
      "metadata": {
        "id": "MQY8VjbjAR-5",
        "colab_type": "code",
        "colab": {}
      },
      "source": [
        "img_rows, img_cols = 28, 28\n",
        "x_train = x_train.reshape(x_train.shape[0], img_rows, img_cols, 1)\n",
        "x_test = x_test.reshape(x_test.shape[0], img_rows, img_cols, 1)\n",
        "input_shape = (img_rows, img_cols, 1)"
      ],
      "execution_count": 0,
      "outputs": []
    },
    {
      "cell_type": "code",
      "metadata": {
        "id": "0N4ha9aRAiZp",
        "colab_type": "code",
        "outputId": "d21bc30b-4a2c-435a-e869-57bda404ce5e",
        "colab": {
          "base_uri": "https://localhost:8080/",
          "height": 67
        }
      },
      "source": [
        "x_train = x_train.astype('float32')\n",
        "x_test = x_test.astype('float32')\n",
        "x_train /= 255\n",
        "x_test /= 255\n",
        "print('x_train shape:', x_train.shape)\n",
        "print(x_train.shape[0], 'train samples')\n",
        "print(x_test.shape[0], 'test samples')"
      ],
      "execution_count": 5,
      "outputs": [
        {
          "output_type": "stream",
          "text": [
            "x_train shape: (60000, 28, 28, 1)\n",
            "60000 train samples\n",
            "10000 test samples\n"
          ],
          "name": "stdout"
        }
      ]
    },
    {
      "cell_type": "code",
      "metadata": {
        "id": "c1Ab-LTVA8XA",
        "colab_type": "code",
        "colab": {}
      },
      "source": [
        "num_classes = 10"
      ],
      "execution_count": 0,
      "outputs": []
    },
    {
      "cell_type": "code",
      "metadata": {
        "id": "-2-ci7qEAknU",
        "colab_type": "code",
        "colab": {}
      },
      "source": [
        "y_train = tf.keras.utils.to_categorical(y_train, num_classes)\n",
        "y_test = tf.keras.utils.to_categorical(y_test, num_classes)"
      ],
      "execution_count": 0,
      "outputs": []
    },
    {
      "cell_type": "code",
      "metadata": {
        "id": "bY8kp0VbAmEr",
        "colab_type": "code",
        "colab": {}
      },
      "source": [
        "def create_model(activation, learning_rate, adam_decay, dropout, dense_units, \n",
        "                 conv_0_channels, conv_1_channels):\n",
        "  model = tf.keras.Sequential()\n",
        "  model.add(tf.keras.layers.Conv2D(conv_0_channels, kernel_size=(3, 3),\n",
        "                  activation=activation,\n",
        "                  input_shape=input_shape))\n",
        "  model.add(tf.keras.layers.Conv2D(conv_1_channels, (3, 3), activation=activation))\n",
        "  model.add(tf.keras.layers.MaxPooling2D(pool_size=(2, 2)))\n",
        "  model.add(tf.keras.layers.Dropout(dropout))\n",
        "  model.add(tf.keras.layers.Flatten())\n",
        "  model.add(tf.keras.layers.Dense(dense_units, activation=activation))\n",
        "  model.add(tf.keras.layers.Dropout(dropout))\n",
        "  model.add(tf.keras.layers.Dense(num_classes, activation='softmax'))\n",
        "\n",
        "  model.compile(loss=tf.keras.losses.CategoricalCrossentropy(),\n",
        "                optimizer=tf.keras.optimizers.Adam(lr=learning_rate, decay=adam_decay),\n",
        "                metrics=['accuracy'])\n",
        "  \n",
        "  return model"
      ],
      "execution_count": 0,
      "outputs": []
    },
    {
      "cell_type": "code",
      "metadata": {
        "id": "EHVZZvAHI_IR",
        "colab_type": "code",
        "colab": {}
      },
      "source": [
        "model = create_model(activation=\"relu\", learning_rate=0.01, adam_decay=0.0, dropout=0.25, dense_units=128, \n",
        "                 conv_0_channels=32, conv_1_channels=64)"
      ],
      "execution_count": 0,
      "outputs": []
    },
    {
      "cell_type": "code",
      "metadata": {
        "id": "ruatY_J8AwZ_",
        "colab_type": "code",
        "outputId": "513c6404-2472-4780-825f-c525b26be313",
        "colab": {
          "base_uri": "https://localhost:8080/",
          "height": 437
        }
      },
      "source": [
        "model.fit(x_train, y_train,\n",
        "          batch_size=128,\n",
        "          epochs=12,\n",
        "          verbose=1,\n",
        "          validation_data=(x_test, y_test))"
      ],
      "execution_count": 10,
      "outputs": [
        {
          "output_type": "stream",
          "text": [
            "Epoch 1/12\n",
            "469/469 [==============================] - 8s 17ms/step - loss: 0.1853 - accuracy: 0.9428 - val_loss: 0.0510 - val_accuracy: 0.9828\n",
            "Epoch 2/12\n",
            "469/469 [==============================] - 7s 15ms/step - loss: 0.0802 - accuracy: 0.9760 - val_loss: 0.0471 - val_accuracy: 0.9853\n",
            "Epoch 3/12\n",
            "469/469 [==============================] - 7s 16ms/step - loss: 0.0674 - accuracy: 0.9803 - val_loss: 0.0474 - val_accuracy: 0.9852\n",
            "Epoch 4/12\n",
            "469/469 [==============================] - 7s 16ms/step - loss: 0.0631 - accuracy: 0.9812 - val_loss: 0.0383 - val_accuracy: 0.9875\n",
            "Epoch 5/12\n",
            "469/469 [==============================] - 7s 16ms/step - loss: 0.0575 - accuracy: 0.9823 - val_loss: 0.0420 - val_accuracy: 0.9886\n",
            "Epoch 6/12\n",
            "469/469 [==============================] - 7s 16ms/step - loss: 0.0576 - accuracy: 0.9824 - val_loss: 0.0532 - val_accuracy: 0.9867\n",
            "Epoch 7/12\n",
            "469/469 [==============================] - 7s 16ms/step - loss: 0.0551 - accuracy: 0.9839 - val_loss: 0.0397 - val_accuracy: 0.9891\n",
            "Epoch 8/12\n",
            "469/469 [==============================] - 7s 16ms/step - loss: 0.0527 - accuracy: 0.9849 - val_loss: 0.0437 - val_accuracy: 0.9876\n",
            "Epoch 9/12\n",
            "469/469 [==============================] - 7s 16ms/step - loss: 0.0491 - accuracy: 0.9857 - val_loss: 0.0477 - val_accuracy: 0.9895\n",
            "Epoch 10/12\n",
            "469/469 [==============================] - 7s 15ms/step - loss: 0.0540 - accuracy: 0.9844 - val_loss: 0.0558 - val_accuracy: 0.9866\n",
            "Epoch 11/12\n",
            "469/469 [==============================] - 7s 16ms/step - loss: 0.0493 - accuracy: 0.9856 - val_loss: 0.0485 - val_accuracy: 0.9896\n",
            "Epoch 12/12\n",
            "469/469 [==============================] - 7s 16ms/step - loss: 0.0468 - accuracy: 0.9867 - val_loss: 0.0568 - val_accuracy: 0.9863\n"
          ],
          "name": "stdout"
        },
        {
          "output_type": "execute_result",
          "data": {
            "text/plain": [
              "<tensorflow.python.keras.callbacks.History at 0x7f35901c04a8>"
            ]
          },
          "metadata": {
            "tags": []
          },
          "execution_count": 10
        }
      ]
    },
    {
      "cell_type": "code",
      "metadata": {
        "id": "fbv4KS6RGYIa",
        "colab_type": "code",
        "colab": {}
      },
      "source": [
        "score = model.evaluate(x_test, y_test, verbose=0)\n",
        "print('Test loss:', score[0])\n",
        "print('Test accuracy:', score[1])"
      ],
      "execution_count": 0,
      "outputs": []
    },
    {
      "cell_type": "markdown",
      "metadata": {
        "id": "2bINdNLTGI_E",
        "colab_type": "text"
      },
      "source": [
        "### Baysian Optimization"
      ]
    },
    {
      "cell_type": "code",
      "metadata": {
        "id": "BW_ubySluUzK",
        "colab_type": "code",
        "colab": {}
      },
      "source": [
        "# mount Google Drive first and enter a path where models are stored\n",
        "root_path = \"drive/My Drive/Colab Notebooks/models\""
      ],
      "execution_count": 0,
      "outputs": []
    },
    {
      "cell_type": "code",
      "metadata": {
        "id": "xrqAB0B7JxSJ",
        "colab_type": "code",
        "outputId": "70aa2e7c-3460-430a-92e2-2b235523aadf",
        "colab": {
          "base_uri": "https://localhost:8080/",
          "height": 238
        }
      },
      "source": [
        "!pip install scikit-optimize"
      ],
      "execution_count": 13,
      "outputs": [
        {
          "output_type": "stream",
          "text": [
            "Collecting scikit-optimize\n",
            "\u001b[?25l  Downloading https://files.pythonhosted.org/packages/5c/87/310b52debfbc0cb79764e5770fa3f5c18f6f0754809ea9e2fc185e1b67d3/scikit_optimize-0.7.4-py2.py3-none-any.whl (80kB)\n",
            "\r\u001b[K     |████                            | 10kB 15.7MB/s eta 0:00:01\r\u001b[K     |████████▏                       | 20kB 2.2MB/s eta 0:00:01\r\u001b[K     |████████████▎                   | 30kB 2.8MB/s eta 0:00:01\r\u001b[K     |████████████████▎               | 40kB 3.1MB/s eta 0:00:01\r\u001b[K     |████████████████████▍           | 51kB 2.6MB/s eta 0:00:01\r\u001b[K     |████████████████████████▌       | 61kB 2.8MB/s eta 0:00:01\r\u001b[K     |████████████████████████████▌   | 71kB 3.1MB/s eta 0:00:01\r\u001b[K     |████████████████████████████████| 81kB 2.5MB/s \n",
            "\u001b[?25hRequirement already satisfied: scipy>=0.18.0 in /usr/local/lib/python3.6/dist-packages (from scikit-optimize) (1.4.1)\n",
            "Collecting pyaml>=16.9\n",
            "  Downloading https://files.pythonhosted.org/packages/15/c4/1310a054d33abc318426a956e7d6df0df76a6ddfa9c66f6310274fb75d42/pyaml-20.4.0-py2.py3-none-any.whl\n",
            "Requirement already satisfied: scikit-learn>=0.19.1 in /usr/local/lib/python3.6/dist-packages (from scikit-optimize) (0.22.2.post1)\n",
            "Requirement already satisfied: joblib>=0.11 in /usr/local/lib/python3.6/dist-packages (from scikit-optimize) (0.15.1)\n",
            "Requirement already satisfied: numpy>=1.11.0 in /usr/local/lib/python3.6/dist-packages (from scikit-optimize) (1.18.4)\n",
            "Requirement already satisfied: PyYAML in /usr/local/lib/python3.6/dist-packages (from pyaml>=16.9->scikit-optimize) (3.13)\n",
            "Installing collected packages: pyaml, scikit-optimize\n",
            "Successfully installed pyaml-20.4.0 scikit-optimize-0.7.4\n"
          ],
          "name": "stdout"
        }
      ]
    },
    {
      "cell_type": "code",
      "metadata": {
        "id": "uH8Mi28ZJooj",
        "colab_type": "code",
        "colab": {}
      },
      "source": [
        "from skopt import gp_minimize, gbrt_minimize\n",
        "from skopt.utils import use_named_args, dump\n",
        "from skopt.space import Real, Categorical, Integer "
      ],
      "execution_count": 0,
      "outputs": []
    },
    {
      "cell_type": "code",
      "metadata": {
        "id": "4eaUY0VLGwGz",
        "colab_type": "code",
        "colab": {}
      },
      "source": [
        "# define the hyper parameter search space\n",
        "dim_activation = Categorical([\"relu\", \"tanh\", \"selu\", \"elu\", \"exponential\"], name=\"activation\")\n",
        "dim_learning_rate = Real(1e-5, 1e-1, prior=\"log-uniform\", name=\"learning_rate\")\n",
        "dim_adam_decay = Real(1e-8, 1e-1, prior=\"log-uniform\", name=\"adam_decay\")\n",
        "dim_dropout = Real(0.0, 1.0, name=\"dropout\")\n",
        "dim_dense_units = Integer(32, 512, prior=\"log-uniform\", base=2, name=\"dense_units\")\n",
        "dim_conv_0_channels = Integer(8, 64, prior=\"log-uniform\", base=2, name=\"conv_0_channels\")\n",
        "dim_conv_1_channels = Integer(8, 128, prior=\"log-uniform\", base=2, name=\"conv_1_channels\")\n",
        "dim_batch_size = Integer(1, 256, prior=\"log-uniform\", base=2, name=\"batch_size\")\n",
        "\n",
        "dimensions  = [dim_activation,\n",
        "               dim_learning_rate,\n",
        "               dim_adam_decay,\n",
        "               dim_dropout,\n",
        "               dim_dense_units,\n",
        "               dim_conv_0_channels,\n",
        "               dim_conv_1_channels,\n",
        "               dim_batch_size]\n",
        "\n",
        "#default_parameters = [\"relu\", 0.01, 0.0, 0.25, 128, 32, 64, 128]  # this yields already quite a good validation accuracy\n",
        "default_parameters = [\"tanh\", 0.01, 1e-8, 0.0, 64, 16, 32, 128]  # start with a worse configuration to demonstrate BO"
      ],
      "execution_count": 0,
      "outputs": []
    },
    {
      "cell_type": "code",
      "metadata": {
        "id": "7oZTM--9LbVW",
        "colab_type": "code",
        "colab": {}
      },
      "source": [
        "# fit model with default parameters\n",
        "#model = create_model(*default_parameters[:-1])\n",
        "#hist = model.fit(x_train, y_train, epochs=8, batch_size=128, validation_data=(x_test, y_test), verbose=1)"
      ],
      "execution_count": 0,
      "outputs": []
    },
    {
      "cell_type": "code",
      "metadata": {
        "id": "uXYMshoiGGRn",
        "colab_type": "code",
        "colab": {}
      },
      "source": [
        "# objective function which trains and evaluates the model with a given hyperparameter config \n",
        "model_ids = []\n",
        "\n",
        "@use_named_args(dimensions=dimensions)\n",
        "def objective(activation, learning_rate, adam_decay, dropout, dense_units, \n",
        "              conv_0_channels, conv_1_channels, batch_size):\n",
        "\n",
        "  model = create_model(activation, learning_rate, adam_decay, dropout, dense_units, \n",
        "                 conv_0_channels, conv_1_channels)\n",
        "  \n",
        "  model_fitted = model.fit(x_train, y_train, epochs=8, batch_size=batch_size, validation_data=(x_test, y_test), verbose=0)\n",
        "\n",
        "  accuracy = model_fitted.history[\"val_accuracy\"][-1]\n",
        "\n",
        "  id = uuid.uuid4()\n",
        "  model_ids.append(id)\n",
        "  print(\"Id {}-- Accuracy: {:.2%}\".format(id, accuracy))\n",
        "\n",
        "  # save weights\n",
        "  model.save_weights(os.path.join(root_path, 'model-{}'.format(id)) )\n",
        "\n",
        "  del model\n",
        "  tf.keras.backend.clear_session()\n",
        "\n",
        "  return -accuracy"
      ],
      "execution_count": 0,
      "outputs": []
    },
    {
      "cell_type": "code",
      "metadata": {
        "id": "vpF4fozuKynd",
        "colab_type": "code",
        "outputId": "ceda3f1a-778e-42ee-96a5-65e04839efa5",
        "colab": {
          "base_uri": "https://localhost:8080/",
          "height": 1000
        }
      },
      "source": [
        "gp_result = gp_minimize(func=objective,\n",
        "                        dimensions=dimensions,\n",
        "                        n_calls=12,\n",
        "                        noise=0.01,\n",
        "                        n_jobs=-1,\n",
        "                        kappa=5,\n",
        "                        x0=default_parameters,\n",
        "                        random_state=0,\n",
        "                        verbose=True)"
      ],
      "execution_count": 62,
      "outputs": [
        {
          "output_type": "stream",
          "text": [
            "Iteration No: 1 started. Evaluating function at provided point.\n",
            "Id 907cb0c9-cdd5-493a-804d-6195342af713-- Accuracy: 91.69%\n",
            "Iteration No: 1 ended. Evaluation done at provided point.\n",
            "Time taken: 28.4040\n",
            "Function value obtained: -0.9169\n",
            "Current minimum: -0.9169\n",
            "Iteration No: 2 started. Evaluating function at random point.\n",
            "Id 9f2b29f4-8996-464d-9a27-26891d95ba74-- Accuracy: 95.46%\n",
            "Iteration No: 2 ended. Evaluation done at random point.\n",
            "Time taken: 145.5839\n",
            "Function value obtained: -0.9546\n",
            "Current minimum: -0.9546\n",
            "Iteration No: 3 started. Evaluating function at random point.\n",
            "Id 8a8af131-d9f2-4dc3-9b43-bb81e9327805-- Accuracy: 98.43%\n",
            "Iteration No: 3 ended. Evaluation done at random point.\n",
            "Time taken: 55.2108\n",
            "Function value obtained: -0.9843\n",
            "Current minimum: -0.9843\n",
            "Iteration No: 4 started. Evaluating function at random point.\n",
            "Id 97b43ca7-c2d9-4ddf-a8f1-440248fbbb26-- Accuracy: 11.35%\n",
            "Iteration No: 4 ended. Evaluation done at random point.\n",
            "Time taken: 72.9718\n",
            "Function value obtained: -0.1135\n",
            "Current minimum: -0.9843\n",
            "Iteration No: 5 started. Evaluating function at random point.\n",
            "Id 7df943c3-12b5-4b4f-940d-80beb620cca0-- Accuracy: 97.82%\n",
            "Iteration No: 5 ended. Evaluation done at random point.\n",
            "Time taken: 35.0220\n",
            "Function value obtained: -0.9782\n",
            "Current minimum: -0.9843\n",
            "Iteration No: 6 started. Evaluating function at random point.\n",
            "Id d6cb5be3-5754-43b6-bd43-477055fd24e2-- Accuracy: 97.97%\n",
            "Iteration No: 6 ended. Evaluation done at random point.\n",
            "Time taken: 78.2242\n",
            "Function value obtained: -0.9797\n",
            "Current minimum: -0.9843\n",
            "Iteration No: 7 started. Evaluating function at random point.\n",
            "Id d8826063-008f-4706-9f00-4dc6f746f3b4-- Accuracy: 11.35%\n",
            "Iteration No: 7 ended. Evaluation done at random point.\n",
            "Time taken: 42.5066\n",
            "Function value obtained: -0.1135\n",
            "Current minimum: -0.9843\n",
            "Iteration No: 8 started. Evaluating function at random point.\n",
            "Id 560be789-5ebf-4738-897a-c373842fdd32-- Accuracy: 98.46%\n",
            "Iteration No: 8 ended. Evaluation done at random point.\n",
            "Time taken: 77.4432\n",
            "Function value obtained: -0.9846\n",
            "Current minimum: -0.9846\n",
            "Iteration No: 9 started. Evaluating function at random point.\n",
            "Id 2076ab43-0bf0-440f-9d6d-e31e82ff8531-- Accuracy: 98.03%\n",
            "Iteration No: 9 ended. Evaluation done at random point.\n",
            "Time taken: 51.7811\n",
            "Function value obtained: -0.9803\n",
            "Current minimum: -0.9846\n",
            "Iteration No: 10 started. Evaluating function at random point.\n",
            "Id dd0db436-a209-44a5-a3f3-f7bca039812d-- Accuracy: 9.80%\n",
            "Iteration No: 10 ended. Evaluation done at random point.\n",
            "Time taken: 111.7307\n",
            "Function value obtained: -0.0980\n",
            "Current minimum: -0.9846\n",
            "Iteration No: 11 started. Evaluating function at random point.\n",
            "Id ee5127df-6253-4a8a-937a-560f7015e9b3-- Accuracy: 99.16%\n",
            "Iteration No: 11 ended. Evaluation done at random point.\n",
            "Time taken: 63.2049\n",
            "Function value obtained: -0.9916\n",
            "Current minimum: -0.9916\n",
            "Iteration No: 12 started. Searching for the next optimal point.\n",
            "Id f39fbeac-d1b9-4ac5-8d1b-318adb9460a5-- Accuracy: 33.43%\n",
            "Iteration No: 12 ended. Search finished for the next optimal point.\n",
            "Time taken: 38.8880\n",
            "Function value obtained: -0.3343\n",
            "Current minimum: -0.9916\n"
          ],
          "name": "stdout"
        },
        {
          "output_type": "error",
          "ename": "NameError",
          "evalue": "ignored",
          "traceback": [
            "\u001b[0;31m---------------------------------------------------------------------------\u001b[0m",
            "\u001b[0;31mNameError\u001b[0m                                 Traceback (most recent call last)",
            "\u001b[0;32m<ipython-input-62-3bfb0ad7f881>\u001b[0m in \u001b[0;36m<module>\u001b[0;34m()\u001b[0m\n\u001b[1;32m      9\u001b[0m                         verbose=True)\n\u001b[1;32m     10\u001b[0m \u001b[0;34m\u001b[0m\u001b[0m\n\u001b[0;32m---> 11\u001b[0;31m \u001b[0mdump\u001b[0m\u001b[0;34m(\u001b[0m\u001b[0mgp_result\u001b[0m\u001b[0;34m,\u001b[0m \u001b[0mos\u001b[0m\u001b[0;34m.\u001b[0m\u001b[0mpath\u001b[0m\u001b[0;34m.\u001b[0m\u001b[0mjoin\u001b[0m\u001b[0;34m(\u001b[0m\u001b[0mroot_path\u001b[0m\u001b[0;34m,\u001b[0m \u001b[0;34m\"BO_result.pkl\"\u001b[0m\u001b[0;34m)\u001b[0m\u001b[0;34m)\u001b[0m\u001b[0;34m\u001b[0m\u001b[0;34m\u001b[0m\u001b[0m\n\u001b[0m",
            "\u001b[0;31mNameError\u001b[0m: name 'dump' is not defined"
          ]
        }
      ]
    },
    {
      "cell_type": "code",
      "metadata": {
        "id": "jtarQUFi_Tdf",
        "colab_type": "code",
        "colab": {}
      },
      "source": [
        "dump(gp_result, os.path.join(root_path, \"BO_result.pkl\"))"
      ],
      "execution_count": 0,
      "outputs": []
    },
    {
      "cell_type": "code",
      "metadata": {
        "id": "P7f2-KT6wzSn",
        "colab_type": "code",
        "colab": {
          "base_uri": "https://localhost:8080/",
          "height": 151
        },
        "outputId": "8dc94096-0484-4947-dd19-356d7ffc5aff"
      },
      "source": [
        "gp_result.x"
      ],
      "execution_count": 64,
      "outputs": [
        {
          "output_type": "execute_result",
          "data": {
            "text/plain": [
              "['relu',\n",
              " 0.0006377300155643865,\n",
              " 1.3801098575179591e-08,\n",
              " 0.4417109212488455,\n",
              " 502,\n",
              " 28,\n",
              " 66,\n",
              " 177]"
            ]
          },
          "metadata": {
            "tags": []
          },
          "execution_count": 64
        }
      ]
    },
    {
      "cell_type": "code",
      "metadata": {
        "id": "HSpUeqA2M_mM",
        "colab_type": "code",
        "outputId": "c3b1cfc1-0f25-41c0-dfbc-0033fc89b8ab",
        "colab": {
          "base_uri": "https://localhost:8080/",
          "height": 314
        }
      },
      "source": [
        "from skopt.plots import plot_convergence\n",
        "plot_convergence(gp_result)"
      ],
      "execution_count": 68,
      "outputs": [
        {
          "output_type": "execute_result",
          "data": {
            "text/plain": [
              "<matplotlib.axes._subplots.AxesSubplot at 0x7f35331589e8>"
            ]
          },
          "metadata": {
            "tags": []
          },
          "execution_count": 68
        },
        {
          "output_type": "display_data",
          "data": {
            "image/png": "[encoded data removed]",
            "text/plain": [
              "<Figure size 432x288 with 1 Axes>"
            ]
          },
          "metadata": {
            "tags": [],
            "needs_background": "light"
          }
        }
      ]
    },
    {
      "cell_type": "markdown",
      "metadata": {
        "id": "hg-o6xkJveAh",
        "colab_type": "text"
      },
      "source": [
        "### Load best model"
      ]
    },
    {
      "cell_type": "code",
      "metadata": {
        "id": "hUPWgJtevfQ7",
        "colab_type": "code",
        "colab": {
          "base_uri": "https://localhost:8080/",
          "height": 50
        },
        "outputId": "a88cd009-d86c-4c9e-9a7f-dbf915af3806"
      },
      "source": [
        "#best_model_id = \"61504fa2-5f6e-4a89-9041-858be90208b7\"\n",
        "best_model_id = model_ids[gp_result.x_iters.index(gp_result.x)]\n",
        "model_loaded = create_model(*(gp_result.x[:-1]))\n",
        "model_loaded.load_weights(os.path.join(root_path, \"model-{}\".format(best_model_id)))\n",
        "\n",
        "score = model_loaded.evaluate(x_test, y_test, verbose=0)\n",
        "print('Test loss:', score[0])\n",
        "print('Test accuracy:', score[1])"
      ],
      "execution_count": 69,
      "outputs": [
        {
          "output_type": "stream",
          "text": [
            "Test loss: 0.026339242234826088\n",
            "Test accuracy: 0.991599977016449\n"
          ],
          "name": "stdout"
        }
      ]
    },
    {
      "cell_type": "markdown",
      "metadata": {
        "id": "kBrrVi5YT6Mf",
        "colab_type": "text"
      },
      "source": [
        "### Retrain the best model"
      ]
    },
    {
      "cell_type": "code",
      "metadata": {
        "id": "EVXkICJmT000",
        "colab_type": "code",
        "colab": {}
      },
      "source": [
        "# model_best = create_model(*(gp_result.x[:-1]))\n",
        "# model_best.fit(x_train, y_train, epochs=8, batch_size=gp_result.x[-1], validation_data=(x_test, y_test), verbose=1)\n",
        "# score = model_best.evaluate(x_test, y_test, verbose=0)\n",
        "# print('Test loss:', score[0])\n",
        "# print('Test accuracy:', score[1])"
      ],
      "execution_count": 0,
      "outputs": []
    }
  ]
}